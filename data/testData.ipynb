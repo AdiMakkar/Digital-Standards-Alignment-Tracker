{
 "cells": [
  {
   "cell_type": "code",
   "execution_count": 11,
   "source": [
    "import pandas as pd\n",
    "import plotly.express as px\n",
    "import plotly.graph_objs as go\n",
    "import csv\n",
    "\n"
   ],
   "outputs": [],
   "metadata": {}
  },
  {
   "cell_type": "code",
   "execution_count": 12,
   "source": [
    "\n",
    "with open(\"Averages_empower.csv\") as f:\n",
    "    reader = csv.reader(f)\n",
    "    for row in reader:\n",
    "        print(\" \".join(row))\n"
   ],
   "outputs": [
    {
     "output_type": "stream",
     "name": "stdout",
     "text": [
      "YEAR\tSUBSET\tQUESTION1P\tQUESTION1N\tQUESTION4P\tQUESTION4N\tQUESTION8P\tQUESTION8N\tQUESTION11P\tQUESTION11N\tQUESTION13P\tQUESTION13N\tQUESTION14P\tQUESTION14N\tQUESTION15P\tQUESTION15N\tQUESTION44P\tQUESTION44N\tTOTALP\tTOTALN\n",
      "2020\t1\t85.07865169\t11.1011236\t77.07216495\t12.36082474\t75.62886598\t13.12164985\t76.83505155\t12.02061856\t77.42268041\t11.54639175\t76.525732\t11.34020619\t78.15463918\t10.4742268\t75.29896907\t9.979381443\t\t\n",
      "2020\t2\t84.048\t11.908\t75.24914807\t13.91839604\t71.79587486\t15.53201258\t73.99449856\t14.16511789\t74.57177495\t13.83267522\t75.56692445\t11.73087625\t78.21845135\t10.71563098\t71.88035333\t11.50239069\t\t\n",
      "2020\t3\t80.7378681\t14.92326835\t73.28773503\t14.83083647\t70.34723087\t16.61908598\t72.53280465\t15.31570451\t72.00153605\t14.8880449\t72.27446697\t13.72430384\t75.85421235\t12.01282837\t66.59120215\t14.2999222\t\t\n",
      "2020\t4\t83.14825488\t12.56452129\t75.08303716\t13.38299904\t72.24623759\t15.03394172\t74.65454545\t13.55183413\t75.53054662\t12.99710611\t75.86588459\t11.39315155\t77.09609225\t11.24087124\t71.66869984\t11.65373517\t\t\n",
      "2020\t5\t83.88526672\t11.97713802\t75.93441449\t13.05190667\t73.88652725\t14.19198362\t75.11584232\t13.31549059\t75.5744304\t12.86951984\t75.85315907\t11.4530434\t78.62304189\t10.54974057\t72.18788711\t11.43336915\t\t\n",
      "2020\t6\t82.92130751\t12.60411622\t73.14549732\t15.56719563\t68.83988681\t16.6784978\t71.92154866\t15.26898199\t71.32480197\t15.53998017\t71.90453612\t13.40345768\t74.93403217\t12.7958316\t68.97179494\t13.3474913\t\t\n",
      "2020\t7\t83.4015949\t12.45263158\t74.52250239\t13.64443026\t72.54800638\t14.88452951\t74.41339713\t13.74417863\t74.78487073\t13.46409192\t74.90749601\t11.98437002\t77.51596424\t10.9642401\t70.66283892\t12.10781499\t\t\n",
      "2020\tTotal\t83.31727769\t12.50439987\t74.8992142\t13.82236984\t72.18466139\t15.15167158\t74.20966976\t13.91170376\t74.45866302\t13.5911157\t74.69974274\t12.14705842\t77.19949049\t11.25048138\t71.03739219\t12.04630071\t75.25076394\t13.05313766\n",
      "2019\t1\t85.67816092\t10.12643678\t74.43678161\t15\t71.90804598\t15.91954023\t74.26436782\t14.72413793\t74.55172414\t14.42528736\t74.52873563\t12.7816092\t77.52873563\t11.27586207\t63.1954023\t21\t\t\n",
      "2019\t2\t82.74297408\t12.6851296\t70.01802786\t18.33187654\t67.30960175\t19.20676487\t69.77046943\t17.50764192\t69.70976541\t17.54391708\t69.94731095\t15.64837565\t73.56830601\t13.64453552\t57.16320961\t25.6058952\t\t\n",
      "2019\t3\t82.8341853\t12.68817891\t71.7552\t16.67072\t68.57931695\t17.37184807\t72.07571885\t15.29776358\t72.98212005\t14.87643678\t73.21066071\t13.1828918\t74.59667093\t12.94462228\t59.18286445\t23.26023018\t\t\n",
      "2019\t4\t84.47566372\t11.26580278\t72.53950695\t16.06573957\t70.4487666\t16.41745731\t72.61910788\t14.96108826\t72.01803227\t15.46124644\t72.57495256\t13.40923466\t76.02813784\t11.86753083\t60.89876621\t21.87851946\t\t\n",
      "2019\t5\t82.61914894\t12.88212766\t70.26978723\t17.80553191\t68.47106383\t18.09744681\t71.4461473\t16.15453384\t72.02212766\t15.77234043\t72.16858238\t13.95955726\t73.91176471\t13.385763\t57.9106383\t24.6906383\t\t\n",
      "2019\tTotal\t83.67002659\t11.92953515\t71.80386073\t16.7747736\t69.34335902\t17.40261146\t72.03516226\t15.72903311\t72.25675391\t15.61584562\t72.48604845\t13.79633371\t75.12672302\t12.62366274\t59.67017617\t23.28705663\t72.04901377\t15.8948565\n",
      "2018\t1\t74.96385542\t15.24096386\t80.38554217\t10.77108434\t88.19277108\t5.036144578\t72.45783133\t15.57831325\t72.28915663\t13.92771084\t82.21686747\t7.879518072\t70.04819277\t13.02409639\t73.59036145\t12.74698795\t\t\n",
      "2018\t2\t72.28723404\t17.62006079\t77.36474164\t12.48138298\t85.90877993\t6.154313949\t69.19315589\t17.83726236\t69.53381459\t16.02849544\t80.72983257\t8.673515982\t68.43210346\t14.10384176\t70.62851711\t14.55627376\t\t\n",
      "2018\t3\t72.00889193\t17.61627907\t77.76815068\t12.19143836\t86.06808074\t5.893944577\t70.93591501\t16.3588074\t69.54349315\t15.97328767\t81.63120082\t8.096476223\t66.10623715\t15.63913639\t71.09016112\t13.85293109\t\t\n",
      "2018\t4\t73.74695708\t16.23638693\t79.22671805\t10.93641618\t86.83664318\t5.594490711\t71.35305466\t15.66559486\t71.89109545\t14.19090327\t81.82371795\t8.094871795\t70.57106274\t13.07746479\t73.56020605\t12.51448809\t\t\n",
      "2018\t5\t71.33989501\t18.21259843\t77.23642732\t12.70140105\t85.09027169\t6.647239264\t69.65541429\t17.50679527\t68.72743208\t16.56354075\t80.52936021\t8.698948291\t67.52451839\t14.84019264\t70.11875548\t14.73531989\t\t\n",
      "2018\tTotal\t72.8693667\t16.98525782\t78.39631597\t11.81634458\t86.41930932\t5.865226616\t70.71907424\t16.58935463\t70.39699838\t15.33678759\t81.3861958\t8.288666073\t68.5364229\t14.13694639\t71.79760024\t13.68120016\t75.06516044\t12.83747298\n",
      "2017\t1\t84.6744186\t11.25581395\t81.38372093\t12.91860465\t86.70930233\t6.895348837\t81.03488372\t10.06976744\t74.54651163\t14.41860465\t84.90697674\t7.244186047\t71.30232558\t16.53488372\t57.69767442\t26.37209302\t\t\n",
      "2017\t2\t82.02938476\t13.28864402\t78.44077135\t14.99173554\t84.86730003\t8.167330677\t79.42620943\t10.75505205\t73.6283701\t14.77359069\t82.99816233\t8.073200613\t68.86948529\t18.25\t54.13655848\t28.44213105\t\t\n",
      "2017\t3\t81.0525641\t14.24647436\t77.95253368\t15.43938422\t85.80648267\t7.440949936\t80.48332264\t10.1725465\t73.34262821\t15.05512821\t83.45667522\t7.862323492\t69.83194355\t17.30885183\t53.05386342\t29.04969542\t\t\n",
      "2017\t4\t83.39162562\t12.19282196\t79.64660331\t14.04927842\t86.07147887\t7.252112676\t80.07037298\t10.28641802\t74.43947924\t14.07881773\t83.95003519\t7.488388459\t70.84406899\t16.54100669\t56.63969036\t26.48346235\t\t\n",
      "2017\t5\t80.44415488\t14.90655249\t76.53370577\t16.7113594\t84.17430168\t8.642085661\t78.60089352\t11.28592703\t72.70912477\t15.41378026\t82.31582868\t8.377281192\t68.32166791\t18.52047655\t52.26805659\t30.13216679\t\t\n",
      "2017\tTotal\t82.31842959\t13.17806136\t78.79146701\t14.82207245\t85.52577312\t7.679565557\t79.92313646\t10.51394221\t73.73322279\t14.74798431\t83.52553563\t7.809075961\t69.83389826\t17.43104376\t54.75916865\t28.09590973\t76.05132894\t14.28470692\n",
      "2014\tGroup \t80.9418146\t14.12163051\t78.02762249\t15.38211115\t84.30154554\t7.838868793\t76.93293886\t12.44378698\t81.74013158\t8.06875\t94.71071663\t1.881328074\t89.40512989\t3.530417626\t61.37980927\t21.76520881\t\t\n",
      "2014\tOrganizations\t79.97938144\t15.06369661\t77.2533137\t15.88438881\t82.96281296\t8.919366716\t75.54712813\t13.30522828\t80.28166421\t8.839837997\t94.14396171\t2.063696613\t88.69918999\t3.80191458\t60.58305709\t22.39189687\t\t\n",
      "2014\tResults\t81.37104278\t13.72824237\t78.28359056\t15.05730822\t84.02792281\t8.058683314\t77.16827414\t12.07318734\t82.0199773\t7.881952327\t94.73278112\t1.871780325\t89.41600454\t3.454483541\t63.07116105\t20.52729543\t\t\n",
      "2014\tTotal\t80.76407961\t14.30452316\t77.85484225\t15.44126939\t83.76409377\t8.272306274\t76.54944704\t12.60740087\t81.3472577\t8.263513441\t94.52915315\t1.938935004\t89.17344147\t3.595605249\t61.67800914\t21.56146704\t80.70754052\t10.74812755\n"
     ]
    }
   ],
   "metadata": {}
  },
  {
   "cell_type": "code",
   "execution_count": 21,
   "source": [
    "def read_cell(x, y):\n",
    "    with open(\"Averages_empower.csv\", 'r') as f:\n",
    "        reader = csv.reader(f)\n",
    "        y_count = 0\n",
    "        for n in reader:\n",
    "            if y_count == y:\n",
    "                cell = n[x]\n",
    "                return cell\n",
    "            y_count += 1\n",
    "\n",
    "print (read_cell(0, 1)) "
   ],
   "outputs": [
    {
     "output_type": "stream",
     "name": "stdout",
     "text": [
      "2020\t1\t85.07865169\t11.1011236\t77.07216495\t12.36082474\t75.62886598\t13.12164985\t76.83505155\t12.02061856\t77.42268041\t11.54639175\t76.525732\t11.34020619\t78.15463918\t10.4742268\t75.29896907\t9.979381443\t\t\n"
     ]
    }
   ],
   "metadata": {}
  },
  {
   "cell_type": "code",
   "execution_count": 21,
   "source": [
    "subsets = ['Subset 1', 'Subset 2', 'Subset 3', 'Subset 4', 'Subset 5', 'Subset 6', 'Subset 7']\n",
    "POSITIVE = []\n",
    "NEGATIVE = []\n",
    "\n",
    "trace1 = go.Bar(\n",
    "    x = subsets, \n",
    "    y = POSITIVE,\n",
    "    name = 'POSITIVE'\n",
    ")\n",
    "trace2 = go.Bar(\n",
    "    x = subsets, \n",
    "    y = NEGATIVE,\n",
    "    name = 'NEGATIVE'\n",
    ")\n",
    "data = [trace1, trace2]\n",
    "layout = go.Layout(barmode = 'group')\n",
    "fig = go.Figure (data = data, layout = layout)\n",
    "fig.show()\n",
    "fig.write_html(\"alignment-empower_2020_question1test.html\")"
   ],
   "outputs": [
    {
     "output_type": "display_data",
     "data": {
      "application/vnd.plotly.v1+json": {
       "config": {
        "plotlyServerURL": "https://plot.ly"
       },
       "data": [
        {
         "name": "POSITIVE",
         "type": "bar",
         "x": [
          "Subset 1",
          "Subset 2",
          "Subset 3",
          "Subset 4",
          "Subset 5",
          "Subset 6",
          "Subset 7"
         ],
         "y": []
        },
        {
         "name": "NEGATIVE",
         "type": "bar",
         "x": [
          "Subset 1",
          "Subset 2",
          "Subset 3",
          "Subset 4",
          "Subset 5",
          "Subset 6",
          "Subset 7"
         ],
         "y": []
        }
       ],
       "layout": {
        "barmode": "group",
        "template": {
         "data": {
          "bar": [
           {
            "error_x": {
             "color": "#2a3f5f"
            },
            "error_y": {
             "color": "#2a3f5f"
            },
            "marker": {
             "line": {
              "color": "#E5ECF6",
              "width": 0.5
             },
             "pattern": {
              "fillmode": "overlay",
              "size": 10,
              "solidity": 0.2
             }
            },
            "type": "bar"
           }
          ],
          "barpolar": [
           {
            "marker": {
             "line": {
              "color": "#E5ECF6",
              "width": 0.5
             },
             "pattern": {
              "fillmode": "overlay",
              "size": 10,
              "solidity": 0.2
             }
            },
            "type": "barpolar"
           }
          ],
          "carpet": [
           {
            "aaxis": {
             "endlinecolor": "#2a3f5f",
             "gridcolor": "white",
             "linecolor": "white",
             "minorgridcolor": "white",
             "startlinecolor": "#2a3f5f"
            },
            "baxis": {
             "endlinecolor": "#2a3f5f",
             "gridcolor": "white",
             "linecolor": "white",
             "minorgridcolor": "white",
             "startlinecolor": "#2a3f5f"
            },
            "type": "carpet"
           }
          ],
          "choropleth": [
           {
            "colorbar": {
             "outlinewidth": 0,
             "ticks": ""
            },
            "type": "choropleth"
           }
          ],
          "contour": [
           {
            "colorbar": {
             "outlinewidth": 0,
             "ticks": ""
            },
            "colorscale": [
             [
              0,
              "#0d0887"
             ],
             [
              0.1111111111111111,
              "#46039f"
             ],
             [
              0.2222222222222222,
              "#7201a8"
             ],
             [
              0.3333333333333333,
              "#9c179e"
             ],
             [
              0.4444444444444444,
              "#bd3786"
             ],
             [
              0.5555555555555556,
              "#d8576b"
             ],
             [
              0.6666666666666666,
              "#ed7953"
             ],
             [
              0.7777777777777778,
              "#fb9f3a"
             ],
             [
              0.8888888888888888,
              "#fdca26"
             ],
             [
              1,
              "#f0f921"
             ]
            ],
            "type": "contour"
           }
          ],
          "contourcarpet": [
           {
            "colorbar": {
             "outlinewidth": 0,
             "ticks": ""
            },
            "type": "contourcarpet"
           }
          ],
          "heatmap": [
           {
            "colorbar": {
             "outlinewidth": 0,
             "ticks": ""
            },
            "colorscale": [
             [
              0,
              "#0d0887"
             ],
             [
              0.1111111111111111,
              "#46039f"
             ],
             [
              0.2222222222222222,
              "#7201a8"
             ],
             [
              0.3333333333333333,
              "#9c179e"
             ],
             [
              0.4444444444444444,
              "#bd3786"
             ],
             [
              0.5555555555555556,
              "#d8576b"
             ],
             [
              0.6666666666666666,
              "#ed7953"
             ],
             [
              0.7777777777777778,
              "#fb9f3a"
             ],
             [
              0.8888888888888888,
              "#fdca26"
             ],
             [
              1,
              "#f0f921"
             ]
            ],
            "type": "heatmap"
           }
          ],
          "heatmapgl": [
           {
            "colorbar": {
             "outlinewidth": 0,
             "ticks": ""
            },
            "colorscale": [
             [
              0,
              "#0d0887"
             ],
             [
              0.1111111111111111,
              "#46039f"
             ],
             [
              0.2222222222222222,
              "#7201a8"
             ],
             [
              0.3333333333333333,
              "#9c179e"
             ],
             [
              0.4444444444444444,
              "#bd3786"
             ],
             [
              0.5555555555555556,
              "#d8576b"
             ],
             [
              0.6666666666666666,
              "#ed7953"
             ],
             [
              0.7777777777777778,
              "#fb9f3a"
             ],
             [
              0.8888888888888888,
              "#fdca26"
             ],
             [
              1,
              "#f0f921"
             ]
            ],
            "type": "heatmapgl"
           }
          ],
          "histogram": [
           {
            "marker": {
             "pattern": {
              "fillmode": "overlay",
              "size": 10,
              "solidity": 0.2
             }
            },
            "type": "histogram"
           }
          ],
          "histogram2d": [
           {
            "colorbar": {
             "outlinewidth": 0,
             "ticks": ""
            },
            "colorscale": [
             [
              0,
              "#0d0887"
             ],
             [
              0.1111111111111111,
              "#46039f"
             ],
             [
              0.2222222222222222,
              "#7201a8"
             ],
             [
              0.3333333333333333,
              "#9c179e"
             ],
             [
              0.4444444444444444,
              "#bd3786"
             ],
             [
              0.5555555555555556,
              "#d8576b"
             ],
             [
              0.6666666666666666,
              "#ed7953"
             ],
             [
              0.7777777777777778,
              "#fb9f3a"
             ],
             [
              0.8888888888888888,
              "#fdca26"
             ],
             [
              1,
              "#f0f921"
             ]
            ],
            "type": "histogram2d"
           }
          ],
          "histogram2dcontour": [
           {
            "colorbar": {
             "outlinewidth": 0,
             "ticks": ""
            },
            "colorscale": [
             [
              0,
              "#0d0887"
             ],
             [
              0.1111111111111111,
              "#46039f"
             ],
             [
              0.2222222222222222,
              "#7201a8"
             ],
             [
              0.3333333333333333,
              "#9c179e"
             ],
             [
              0.4444444444444444,
              "#bd3786"
             ],
             [
              0.5555555555555556,
              "#d8576b"
             ],
             [
              0.6666666666666666,
              "#ed7953"
             ],
             [
              0.7777777777777778,
              "#fb9f3a"
             ],
             [
              0.8888888888888888,
              "#fdca26"
             ],
             [
              1,
              "#f0f921"
             ]
            ],
            "type": "histogram2dcontour"
           }
          ],
          "mesh3d": [
           {
            "colorbar": {
             "outlinewidth": 0,
             "ticks": ""
            },
            "type": "mesh3d"
           }
          ],
          "parcoords": [
           {
            "line": {
             "colorbar": {
              "outlinewidth": 0,
              "ticks": ""
             }
            },
            "type": "parcoords"
           }
          ],
          "pie": [
           {
            "automargin": true,
            "type": "pie"
           }
          ],
          "scatter": [
           {
            "marker": {
             "colorbar": {
              "outlinewidth": 0,
              "ticks": ""
             }
            },
            "type": "scatter"
           }
          ],
          "scatter3d": [
           {
            "line": {
             "colorbar": {
              "outlinewidth": 0,
              "ticks": ""
             }
            },
            "marker": {
             "colorbar": {
              "outlinewidth": 0,
              "ticks": ""
             }
            },
            "type": "scatter3d"
           }
          ],
          "scattercarpet": [
           {
            "marker": {
             "colorbar": {
              "outlinewidth": 0,
              "ticks": ""
             }
            },
            "type": "scattercarpet"
           }
          ],
          "scattergeo": [
           {
            "marker": {
             "colorbar": {
              "outlinewidth": 0,
              "ticks": ""
             }
            },
            "type": "scattergeo"
           }
          ],
          "scattergl": [
           {
            "marker": {
             "colorbar": {
              "outlinewidth": 0,
              "ticks": ""
             }
            },
            "type": "scattergl"
           }
          ],
          "scattermapbox": [
           {
            "marker": {
             "colorbar": {
              "outlinewidth": 0,
              "ticks": ""
             }
            },
            "type": "scattermapbox"
           }
          ],
          "scatterpolar": [
           {
            "marker": {
             "colorbar": {
              "outlinewidth": 0,
              "ticks": ""
             }
            },
            "type": "scatterpolar"
           }
          ],
          "scatterpolargl": [
           {
            "marker": {
             "colorbar": {
              "outlinewidth": 0,
              "ticks": ""
             }
            },
            "type": "scatterpolargl"
           }
          ],
          "scatterternary": [
           {
            "marker": {
             "colorbar": {
              "outlinewidth": 0,
              "ticks": ""
             }
            },
            "type": "scatterternary"
           }
          ],
          "surface": [
           {
            "colorbar": {
             "outlinewidth": 0,
             "ticks": ""
            },
            "colorscale": [
             [
              0,
              "#0d0887"
             ],
             [
              0.1111111111111111,
              "#46039f"
             ],
             [
              0.2222222222222222,
              "#7201a8"
             ],
             [
              0.3333333333333333,
              "#9c179e"
             ],
             [
              0.4444444444444444,
              "#bd3786"
             ],
             [
              0.5555555555555556,
              "#d8576b"
             ],
             [
              0.6666666666666666,
              "#ed7953"
             ],
             [
              0.7777777777777778,
              "#fb9f3a"
             ],
             [
              0.8888888888888888,
              "#fdca26"
             ],
             [
              1,
              "#f0f921"
             ]
            ],
            "type": "surface"
           }
          ],
          "table": [
           {
            "cells": {
             "fill": {
              "color": "#EBF0F8"
             },
             "line": {
              "color": "white"
             }
            },
            "header": {
             "fill": {
              "color": "#C8D4E3"
             },
             "line": {
              "color": "white"
             }
            },
            "type": "table"
           }
          ]
         },
         "layout": {
          "annotationdefaults": {
           "arrowcolor": "#2a3f5f",
           "arrowhead": 0,
           "arrowwidth": 1
          },
          "autotypenumbers": "strict",
          "coloraxis": {
           "colorbar": {
            "outlinewidth": 0,
            "ticks": ""
           }
          },
          "colorscale": {
           "diverging": [
            [
             0,
             "#8e0152"
            ],
            [
             0.1,
             "#c51b7d"
            ],
            [
             0.2,
             "#de77ae"
            ],
            [
             0.3,
             "#f1b6da"
            ],
            [
             0.4,
             "#fde0ef"
            ],
            [
             0.5,
             "#f7f7f7"
            ],
            [
             0.6,
             "#e6f5d0"
            ],
            [
             0.7,
             "#b8e186"
            ],
            [
             0.8,
             "#7fbc41"
            ],
            [
             0.9,
             "#4d9221"
            ],
            [
             1,
             "#276419"
            ]
           ],
           "sequential": [
            [
             0,
             "#0d0887"
            ],
            [
             0.1111111111111111,
             "#46039f"
            ],
            [
             0.2222222222222222,
             "#7201a8"
            ],
            [
             0.3333333333333333,
             "#9c179e"
            ],
            [
             0.4444444444444444,
             "#bd3786"
            ],
            [
             0.5555555555555556,
             "#d8576b"
            ],
            [
             0.6666666666666666,
             "#ed7953"
            ],
            [
             0.7777777777777778,
             "#fb9f3a"
            ],
            [
             0.8888888888888888,
             "#fdca26"
            ],
            [
             1,
             "#f0f921"
            ]
           ],
           "sequentialminus": [
            [
             0,
             "#0d0887"
            ],
            [
             0.1111111111111111,
             "#46039f"
            ],
            [
             0.2222222222222222,
             "#7201a8"
            ],
            [
             0.3333333333333333,
             "#9c179e"
            ],
            [
             0.4444444444444444,
             "#bd3786"
            ],
            [
             0.5555555555555556,
             "#d8576b"
            ],
            [
             0.6666666666666666,
             "#ed7953"
            ],
            [
             0.7777777777777778,
             "#fb9f3a"
            ],
            [
             0.8888888888888888,
             "#fdca26"
            ],
            [
             1,
             "#f0f921"
            ]
           ]
          },
          "colorway": [
           "#636efa",
           "#EF553B",
           "#00cc96",
           "#ab63fa",
           "#FFA15A",
           "#19d3f3",
           "#FF6692",
           "#B6E880",
           "#FF97FF",
           "#FECB52"
          ],
          "font": {
           "color": "#2a3f5f"
          },
          "geo": {
           "bgcolor": "white",
           "lakecolor": "white",
           "landcolor": "#E5ECF6",
           "showlakes": true,
           "showland": true,
           "subunitcolor": "white"
          },
          "hoverlabel": {
           "align": "left"
          },
          "hovermode": "closest",
          "mapbox": {
           "style": "light"
          },
          "paper_bgcolor": "white",
          "plot_bgcolor": "#E5ECF6",
          "polar": {
           "angularaxis": {
            "gridcolor": "white",
            "linecolor": "white",
            "ticks": ""
           },
           "bgcolor": "#E5ECF6",
           "radialaxis": {
            "gridcolor": "white",
            "linecolor": "white",
            "ticks": ""
           }
          },
          "scene": {
           "xaxis": {
            "backgroundcolor": "#E5ECF6",
            "gridcolor": "white",
            "gridwidth": 2,
            "linecolor": "white",
            "showbackground": true,
            "ticks": "",
            "zerolinecolor": "white"
           },
           "yaxis": {
            "backgroundcolor": "#E5ECF6",
            "gridcolor": "white",
            "gridwidth": 2,
            "linecolor": "white",
            "showbackground": true,
            "ticks": "",
            "zerolinecolor": "white"
           },
           "zaxis": {
            "backgroundcolor": "#E5ECF6",
            "gridcolor": "white",
            "gridwidth": 2,
            "linecolor": "white",
            "showbackground": true,
            "ticks": "",
            "zerolinecolor": "white"
           }
          },
          "shapedefaults": {
           "line": {
            "color": "#2a3f5f"
           }
          },
          "ternary": {
           "aaxis": {
            "gridcolor": "white",
            "linecolor": "white",
            "ticks": ""
           },
           "baxis": {
            "gridcolor": "white",
            "linecolor": "white",
            "ticks": ""
           },
           "bgcolor": "#E5ECF6",
           "caxis": {
            "gridcolor": "white",
            "linecolor": "white",
            "ticks": ""
           }
          },
          "title": {
           "x": 0.05
          },
          "xaxis": {
           "automargin": true,
           "gridcolor": "white",
           "linecolor": "white",
           "ticks": "",
           "title": {
            "standoff": 15
           },
           "zerolinecolor": "white",
           "zerolinewidth": 2
          },
          "yaxis": {
           "automargin": true,
           "gridcolor": "white",
           "linecolor": "white",
           "ticks": "",
           "title": {
            "standoff": 15
           },
           "zerolinecolor": "white",
           "zerolinewidth": 2
          }
         }
        }
       }
      }
     },
     "metadata": {}
    }
   ],
   "metadata": {}
  }
 ],
 "metadata": {
  "orig_nbformat": 4,
  "language_info": {
   "name": "python",
   "version": "3.9.6",
   "mimetype": "text/x-python",
   "codemirror_mode": {
    "name": "ipython",
    "version": 3
   },
   "pygments_lexer": "ipython3",
   "nbconvert_exporter": "python",
   "file_extension": ".py"
  },
  "kernelspec": {
   "name": "python3",
   "display_name": "Python 3.9.6 64-bit"
  },
  "interpreter": {
   "hash": "aee8b7b246df8f9039afb4144a1f6fd8d2ca17a180786b69acc140d282b71a49"
  }
 },
 "nbformat": 4,
 "nbformat_minor": 2
}