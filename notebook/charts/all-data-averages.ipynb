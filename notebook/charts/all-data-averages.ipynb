{
 "cells": [
  {
   "cell_type": "code",
   "execution_count": null,
   "source": [
    "import plotly.graph_objs as go\n",
    "\n",
    "years = ['2014', '2017', '2018', '2019','2020']\n",
    "averages = [0, 0, 0, 0, 75.25076393571429]\n",
    "data = [go.Bar(\n",
    "    x = years,\n",
    "    y = averages\n",
    ")]\n",
    "fig = go.Figure (data = data)\n",
    "fig.show()\n",
    "fig.write_html(\"alignment-empower_2020_total_average_MPLN.html\")"
   ],
   "outputs": [],
   "metadata": {}
  }
 ],
 "metadata": {
  "orig_nbformat": 4,
  "language_info": {
   "name": "python"
  }
 },
 "nbformat": 4,
 "nbformat_minor": 2
}